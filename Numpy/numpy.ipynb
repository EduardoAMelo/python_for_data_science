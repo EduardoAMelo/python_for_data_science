{
 "cells": [
  {
   "attachments": {},
   "cell_type": "markdown",
   "metadata": {},
   "source": [
    "Numpy LoadTXT"
   ]
  },
  {
   "cell_type": "code",
   "execution_count": null,
   "metadata": {},
   "outputs": [],
   "source": [
    "import numpy as np\n",
    "\n",
    "km = np.loadtxt(\"Data/carros-km.txt\")\n",
    "years = np.loadtxt(\"Data/carros-anos.txt\", dtype=int)\n",
    "\n",
    "\n",
    "km_media = km / (2018 - years)\n",
    "print(km_media)"
   ]
  },
  {
   "attachments": {},
   "cell_type": "markdown",
   "metadata": {},
   "source": [
    "Array Simple Math"
   ]
  },
  {
   "cell_type": "code",
   "execution_count": 5,
   "metadata": {},
   "outputs": [
    {
     "name": "stdout",
     "output_type": "stream",
     "text": [
      "18\n"
     ]
    }
   ],
   "source": [
    "# Its possible to make a map count directly using simple math\n",
    "anos = np.array([2003, 2020, 2013, 2005], dtype=int)\n",
    "\n",
    "idade = 2023 - anos\n",
    "\n",
    "print(idade[3])"
   ]
  },
  {
   "attachments": {},
   "cell_type": "markdown",
   "metadata": {},
   "source": [
    "Operations Between Arrays"
   ]
  },
  {
   "cell_type": "code",
   "execution_count": 9,
   "metadata": {},
   "outputs": [
    {
     "data": {
      "text/plain": [
       "array([100.15      , 673.33333333, 201.3       , 111.38888889])"
      ]
     },
     "execution_count": 9,
     "metadata": {},
     "output_type": "execute_result"
    }
   ],
   "source": [
    "sub_between_arrays = anos / idade\n",
    "sub_between_arrays"
   ]
  },
  {
   "attachments": {},
   "cell_type": "markdown",
   "metadata": {},
   "source": [
    "Bidimensional Array"
   ]
  },
  {
   "cell_type": "code",
   "execution_count": 12,
   "metadata": {},
   "outputs": [
    {
     "name": "stdout",
     "output_type": "stream",
     "text": [
      "[[2003 2020 2013 2005]\n",
      " [  20    3   10   18]]\n"
     ]
    },
    {
     "data": {
      "text/plain": [
       "(2, 4)"
      ]
     },
     "execution_count": 12,
     "metadata": {},
     "output_type": "execute_result"
    }
   ],
   "source": [
    "bidimensional = np.array([anos, idade])\n",
    "print (bidimensional)\n",
    "# dimension\n",
    "bidimensional.shape "
   ]
  },
  {
   "attachments": {},
   "cell_type": "markdown",
   "metadata": {},
   "source": [
    "Slices in Array"
   ]
  },
  {
   "cell_type": "code",
   "execution_count": 5,
   "metadata": {},
   "outputs": [
    {
     "data": {
      "text/plain": [
       "array([['Roberto', 'casado'],\n",
       "       ['Bruno', 'solteiro']], dtype='<U9')"
      ]
     },
     "execution_count": 5,
     "metadata": {},
     "output_type": "execute_result"
    }
   ],
   "source": [
    "import numpy as np\n",
    "dados = np.array(\n",
    "    [\n",
    "        ['Roberto', 'casado', 'masculino'],\n",
    "        ['Sheila', 'solteira', 'feminino'],\n",
    "        ['Bruno', 'solteiro', 'masculino'],\n",
    "        ['Rita', 'casada', 'feminino']\n",
    "    ]\n",
    ")\n",
    "# Pegando apenas os homens\n",
    "dados[0::2, :2]"
   ]
  },
  {
   "attachments": {},
   "cell_type": "markdown",
   "metadata": {},
   "source": [
    "Matrix Count"
   ]
  },
  {
   "cell_type": "code",
   "execution_count": 20,
   "metadata": {},
   "outputs": [
    {
     "name": "stdout",
     "output_type": "stream",
     "text": [
      "BEFORE\n",
      "[[14444 30000  2000 10000]\n",
      " [ 1990  2003  2020  2006]\n",
      " [    0     0     0     0]]\n",
      "AFTER\n",
      "[[14444 30000  2000 10000]\n",
      " [ 1990  2003  2020  2006]\n",
      " [  437  1500   666   588]]\n"
     ]
    }
   ],
   "source": [
    "km = np.array([14444, 30000, 2000, 10000])\n",
    "year = np.array([1990, 2003, 2020, 2006,])\n",
    "\n",
    "info_cars = np.append(km, year).reshape(2,4)\n",
    "\n",
    "info_cars = info_cars.copy()\n",
    "\n",
    "info_cars.resize((3, 4), refcheck=False)\n",
    "print('BEFORE')\n",
    "print (info_cars)\n",
    "\n",
    "info_cars[2] = info_cars[0] / (2023 - info_cars[1])\n",
    "print ('AFTER')\n",
    "print(info_cars)"
   ]
  }
 ],
 "metadata": {
  "kernelspec": {
   "display_name": "Python 3",
   "language": "python",
   "name": "python3"
  },
  "language_info": {
   "codemirror_mode": {
    "name": "ipython",
    "version": 3
   },
   "file_extension": ".py",
   "mimetype": "text/x-python",
   "name": "python",
   "nbconvert_exporter": "python",
   "pygments_lexer": "ipython3",
   "version": "3.10.6"
  },
  "orig_nbformat": 4
 },
 "nbformat": 4,
 "nbformat_minor": 2
}
